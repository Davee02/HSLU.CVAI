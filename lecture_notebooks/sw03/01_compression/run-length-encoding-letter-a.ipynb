{
 "cells": [
  {
   "cell_type": "code",
   "execution_count": 2,
   "id": "62eb66ac",
   "metadata": {},
   "outputs": [],
   "source": [
    "import numpy as np\n",
    "import matplotlib.pyplot as pl"
   ]
  },
  {
   "cell_type": "code",
   "execution_count": 3,
   "id": "dfbea147",
   "metadata": {},
   "outputs": [
    {
     "data": {
      "text/plain": [
       "(np.float64(-0.5), np.float64(6.5), np.float64(8.5), np.float64(-0.5))"
      ]
     },
     "execution_count": 3,
     "metadata": {},
     "output_type": "execute_result"
    },
    {
     "data": {
      "image/png": "[encoded data removed]",
      "text/plain": [
       "<Figure size 640x480 with 1 Axes>"
      ]
     },
     "metadata": {},
     "output_type": "display_data"
    }
   ],
   "source": [
    "Image0 = np.zeros ((9, 7)) .astype (int)\n",
    "Image0 [1, 2:5] = 1\n",
    "Image0 [4, 2:5] = 1\n",
    "Image0 [2:8, 1] = 1\n",
    "Image0 [2:8, 5] = 1\n",
    "pl.imshow (Image0, cmap = 'gray')\n",
    "pl.axis ('off')"
   ]
  },
  {
   "cell_type": "code",
   "execution_count": null,
   "id": "651c70ed",
   "metadata": {},
   "outputs": [
    {
     "name": "stdout",
     "output_type": "stream",
     "text": [
      "[0 0 0 0 0 0 0 0 0 1 1 1 0 0 0 1 0 0 0 1 0 0 1 0 0 0 1 0 0 1 1 1 1 1 0 0 1\n",
      " 0 0 0 1 0 0 1 0 0 0 1 0 0 1 0 0 0 1 0 0 0 0 0 0 0 0]\n"
     ]
    }
   ],
   "source": [
    "Data = Image0.flatten() # flatten the 2D matrix into a 1D array\n",
    "print (Data)"
   ]
  },
  {
   "cell_type": "code",
   "execution_count": 5,
   "id": "b438d35d",
   "metadata": {},
   "outputs": [],
   "source": [
    "def RLencode (data):\n",
    "    last = 0\n",
    "    count = 0\n",
    "    result = []\n",
    "    for value in data:\n",
    "        if value == last:\n",
    "            count += 1\n",
    "        else:\n",
    "            result.append (count)\n",
    "            last = value\n",
    "            count = 1\n",
    "    if count > 0:\n",
    "        result.append (count)\n",
    "    return np.array (result)"
   ]
  },
  {
   "cell_type": "code",
   "execution_count": 6,
   "id": "2eda3675",
   "metadata": {},
   "outputs": [
    {
     "name": "stdout",
     "output_type": "stream",
     "text": [
      "(25,)\n",
      "[9 3 3 1 3 1 2 1 3 1 2 5 2 1 3 1 2 1 3 1 2 1 3 1 8]\n"
     ]
    }
   ],
   "source": [
    "Encoded1 = RLencode (Data)\n",
    "print (Encoded1.shape)\n",
    "print (Encoded1)"
   ]
  },
  {
   "cell_type": "code",
   "execution_count": 7,
   "id": "0a179c24",
   "metadata": {},
   "outputs": [],
   "source": [
    "def RLdecode (encoded):\n",
    "    value = 0\n",
    "    result = []\n",
    "    for count in encoded:\n",
    "        result.extend ([value] * count)\n",
    "        value = 1 - value\n",
    "    return np.array (result)"
   ]
  },
  {
   "cell_type": "code",
   "execution_count": 8,
   "id": "62f19c90",
   "metadata": {},
   "outputs": [
    {
     "name": "stdout",
     "output_type": "stream",
     "text": [
      "(63,)\n",
      "[0 0 0 0 0 0 0 0 0 1 1 1 0 0 0 1 0 0 0 1 0 0 1 0 0 0 1 0 0 1 1 1 1 1 0 0 1\n",
      " 0 0 0 1 0 0 1 0 0 0 1 0 0 1 0 0 0 1 0 0 0 0 0 0 0 0]\n"
     ]
    }
   ],
   "source": [
    "Decoded1 = RLdecode (Encoded1)\n",
    "print (Decoded1.shape)\n",
    "print (Decoded1)"
   ]
  },
  {
   "cell_type": "code",
   "execution_count": 9,
   "id": "261bfbb1",
   "metadata": {},
   "outputs": [
    {
     "name": "stdout",
     "output_type": "stream",
     "text": [
      "(26,)\n",
      "[0 9 3 3 1 3 1 2 1 3 1 2 5 2 1 3 1 2 1 3 1 2 1 3 1 8]\n"
     ]
    }
   ],
   "source": [
    "Encoded2 = np.concatenate (([0], Encoded1))\n",
    "print (Encoded2.shape)\n",
    "print (Encoded2)"
   ]
  },
  {
   "cell_type": "code",
   "execution_count": 10,
   "id": "f31d38de",
   "metadata": {},
   "outputs": [
    {
     "name": "stdout",
     "output_type": "stream",
     "text": [
      "(63,)\n",
      "[1 1 1 1 1 1 1 1 1 0 0 0 1 1 1 0 1 1 1 0 1 1 0 1 1 1 0 1 1 0 0 0 0 0 1 1 0\n",
      " 1 1 1 0 1 1 0 1 1 1 0 1 1 0 1 1 1 0 1 1 1 1 1 1 1 1]\n"
     ]
    }
   ],
   "source": [
    "Decoded2 = RLdecode (Encoded2)\n",
    "print (Decoded2.shape)\n",
    "print (Decoded2)"
   ]
  },
  {
   "cell_type": "code",
   "execution_count": 11,
   "id": "c49273af",
   "metadata": {},
   "outputs": [
    {
     "data": {
      "text/plain": [
       "(np.float64(-0.5), np.float64(6.5), np.float64(8.5), np.float64(-0.5))"
      ]
     },
     "execution_count": 11,
     "metadata": {},
     "output_type": "execute_result"
    },
    {
     "data": {
      "image/png": "[encoded data removed]",
      "text/plain": [
       "<Figure size 640x480 with 3 Axes>"
      ]
     },
     "metadata": {},
     "output_type": "display_data"
    }
   ],
   "source": [
    "Image1 = Decoded1.reshape (Image0.shape)\n",
    "Image2 = Decoded2.reshape (Image0.shape)\n",
    "\n",
    "pl.subplot (1, 3, 1); pl.imshow (Image0, cmap = 'gray'); pl.axis ('off')\n",
    "pl.subplot (1, 3, 2); pl.imshow (Image1, cmap = 'gray'); pl.axis ('off')\n",
    "pl.subplot (1, 3, 3); pl.imshow (Image2, cmap = 'gray'); pl.axis ('off')"
   ]
  }
 ],
 "metadata": {
  "kernelspec": {
   "display_name": "cvai",
   "language": "python",
   "name": "python3"
  },
  "language_info": {
   "codemirror_mode": {
    "name": "ipython",
    "version": 3
   },
   "file_extension": ".py",
   "mimetype": "text/x-python",
   "name": "python",
   "nbconvert_exporter": "python",
   "pygments_lexer": "ipython3",
   "version": "3.10.16"
  }
 },
 "nbformat": 4,
 "nbformat_minor": 5
}
